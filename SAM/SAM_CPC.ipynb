{
 "cells": [
  {
   "cell_type": "markdown",
   "metadata": {},
   "source": [
    "# SAM index from the CPC "
   ]
  },
  {
   "cell_type": "code",
   "execution_count": 1,
   "metadata": {},
   "outputs": [],
   "source": [
    "%matplotlib inline "
   ]
  },
  {
   "cell_type": "code",
   "execution_count": 2,
   "metadata": {},
   "outputs": [],
   "source": [
    "from matplotlib import pyplot as plt "
   ]
  },
  {
   "cell_type": "code",
   "execution_count": 3,
   "metadata": {},
   "outputs": [],
   "source": [
    "import sys\n",
    "import pathlib"
   ]
  },
  {
   "cell_type": "code",
   "execution_count": 4,
   "metadata": {},
   "outputs": [],
   "source": [
    "import numpy as np \n",
    "import pandas as pd "
   ]
  },
  {
   "cell_type": "markdown",
   "metadata": {},
   "source": [
    "### URL for the CPC monthly SAM index, this one seems to be regularly updated "
   ]
  },
  {
   "cell_type": "markdown",
   "metadata": {},
   "source": [
    "see description of the method at [https://www.cpc.ncep.noaa.gov/products/precip/CWlink/daily_ao_index/history/method.shtml](https://www.cpc.ncep.noaa.gov/products/precip/CWlink/daily_ao_index/history/method.shtml)"
   ]
  },
  {
   "cell_type": "markdown",
   "metadata": {},
   "source": [
    "To identify the leading teleconnection patterns in the atmospheric circulation, Emperical Orthogonal Function (EOF) was applied to the monthly mean 1000-hPa (**700-hPa**) height anomalies poleward of 20° latitude for the Northern (Southern) Hemisphere. The leading EOF modes capture the maximum amount of explained variance. The **NCEP/NCAR** reanalysis dataset was employed at a horizontal resolution of (lat,lon)=(2.5°X2.5°) for the period 1979 to 2000. The seasonal cycle has been removed from the monthly mean height field. The covariance matrix is used for the EOF analysis. To ensure equal area weighting for the covariance matrix, **the gridded data is weighted by the square root of the cosine of latitude.**"
   ]
  },
  {
   "cell_type": "code",
   "execution_count": 5,
   "metadata": {},
   "outputs": [],
   "source": [
    "url = 'https://www.cpc.ncep.noaa.gov/products/precip/CWlink/daily_ao_index/aao/monthly.aao.index.b79.current.ascii.table'"
   ]
  },
  {
   "cell_type": "code",
   "execution_count": 6,
   "metadata": {},
   "outputs": [],
   "source": [
    "sam = pd.read_table(url, sep=r\"\\s+\") "
   ]
  },
  {
   "cell_type": "code",
   "execution_count": 7,
   "metadata": {},
   "outputs": [
    {
     "data": {
      "text/html": [
       "<div>\n",
       "<style scoped>\n",
       "    .dataframe tbody tr th:only-of-type {\n",
       "        vertical-align: middle;\n",
       "    }\n",
       "\n",
       "    .dataframe tbody tr th {\n",
       "        vertical-align: top;\n",
       "    }\n",
       "\n",
       "    .dataframe thead th {\n",
       "        text-align: right;\n",
       "    }\n",
       "</style>\n",
       "<table border=\"1\" class=\"dataframe\">\n",
       "  <thead>\n",
       "    <tr style=\"text-align: right;\">\n",
       "      <th></th>\n",
       "      <th>Jan</th>\n",
       "      <th>Feb</th>\n",
       "      <th>Mar</th>\n",
       "      <th>Apr</th>\n",
       "      <th>May</th>\n",
       "      <th>Jun</th>\n",
       "      <th>Jul</th>\n",
       "      <th>Aug</th>\n",
       "      <th>Sep</th>\n",
       "      <th>Oct</th>\n",
       "      <th>Nov</th>\n",
       "      <th>Dec</th>\n",
       "    </tr>\n",
       "  </thead>\n",
       "  <tbody>\n",
       "    <tr>\n",
       "      <th>1979</th>\n",
       "      <td>0.209</td>\n",
       "      <td>0.356</td>\n",
       "      <td>0.899</td>\n",
       "      <td>0.678</td>\n",
       "      <td>0.724</td>\n",
       "      <td>1.700</td>\n",
       "      <td>2.412</td>\n",
       "      <td>0.546</td>\n",
       "      <td>0.629</td>\n",
       "      <td>0.160</td>\n",
       "      <td>-0.423</td>\n",
       "      <td>-0.951</td>\n",
       "    </tr>\n",
       "    <tr>\n",
       "      <th>1980</th>\n",
       "      <td>-0.447</td>\n",
       "      <td>-0.980</td>\n",
       "      <td>-1.424</td>\n",
       "      <td>-2.068</td>\n",
       "      <td>-0.479</td>\n",
       "      <td>0.286</td>\n",
       "      <td>-1.944</td>\n",
       "      <td>-0.997</td>\n",
       "      <td>-1.701</td>\n",
       "      <td>0.577</td>\n",
       "      <td>-2.013</td>\n",
       "      <td>-0.356</td>\n",
       "    </tr>\n",
       "    <tr>\n",
       "      <th>1981</th>\n",
       "      <td>0.231</td>\n",
       "      <td>0.039</td>\n",
       "      <td>-0.966</td>\n",
       "      <td>-1.462</td>\n",
       "      <td>-0.344</td>\n",
       "      <td>0.352</td>\n",
       "      <td>-0.986</td>\n",
       "      <td>-2.118</td>\n",
       "      <td>-1.509</td>\n",
       "      <td>-0.260</td>\n",
       "      <td>0.626</td>\n",
       "      <td>1.116</td>\n",
       "    </tr>\n",
       "    <tr>\n",
       "      <th>1982</th>\n",
       "      <td>-0.554</td>\n",
       "      <td>0.277</td>\n",
       "      <td>1.603</td>\n",
       "      <td>1.531</td>\n",
       "      <td>0.118</td>\n",
       "      <td>0.920</td>\n",
       "      <td>-0.415</td>\n",
       "      <td>0.779</td>\n",
       "      <td>1.580</td>\n",
       "      <td>-0.702</td>\n",
       "      <td>-0.849</td>\n",
       "      <td>-1.934</td>\n",
       "    </tr>\n",
       "    <tr>\n",
       "      <th>1983</th>\n",
       "      <td>-1.340</td>\n",
       "      <td>-1.081</td>\n",
       "      <td>0.166</td>\n",
       "      <td>0.149</td>\n",
       "      <td>-0.437</td>\n",
       "      <td>-0.263</td>\n",
       "      <td>1.114</td>\n",
       "      <td>0.792</td>\n",
       "      <td>-0.696</td>\n",
       "      <td>1.193</td>\n",
       "      <td>0.727</td>\n",
       "      <td>0.475</td>\n",
       "    </tr>\n",
       "  </tbody>\n",
       "</table>\n",
       "</div>"
      ],
      "text/plain": [
       "        Jan    Feb    Mar    Apr    May    Jun    Jul    Aug    Sep    Oct  \\\n",
       "1979  0.209  0.356  0.899  0.678  0.724  1.700  2.412  0.546  0.629  0.160   \n",
       "1980 -0.447 -0.980 -1.424 -2.068 -0.479  0.286 -1.944 -0.997 -1.701  0.577   \n",
       "1981  0.231  0.039 -0.966 -1.462 -0.344  0.352 -0.986 -2.118 -1.509 -0.260   \n",
       "1982 -0.554  0.277  1.603  1.531  0.118  0.920 -0.415  0.779  1.580 -0.702   \n",
       "1983 -1.340 -1.081  0.166  0.149 -0.437 -0.263  1.114  0.792 -0.696  1.193   \n",
       "\n",
       "        Nov    Dec  \n",
       "1979 -0.423 -0.951  \n",
       "1980 -2.013 -0.356  \n",
       "1981  0.626  1.116  \n",
       "1982 -0.849 -1.934  \n",
       "1983  0.727  0.475  "
      ]
     },
     "execution_count": 7,
     "metadata": {},
     "output_type": "execute_result"
    }
   ],
   "source": [
    "sam.head()"
   ]
  },
  {
   "cell_type": "code",
   "execution_count": 8,
   "metadata": {},
   "outputs": [
    {
     "data": {
      "text/html": [
       "<div>\n",
       "<style scoped>\n",
       "    .dataframe tbody tr th:only-of-type {\n",
       "        vertical-align: middle;\n",
       "    }\n",
       "\n",
       "    .dataframe tbody tr th {\n",
       "        vertical-align: top;\n",
       "    }\n",
       "\n",
       "    .dataframe thead th {\n",
       "        text-align: right;\n",
       "    }\n",
       "</style>\n",
       "<table border=\"1\" class=\"dataframe\">\n",
       "  <thead>\n",
       "    <tr style=\"text-align: right;\">\n",
       "      <th></th>\n",
       "      <th>Jan</th>\n",
       "      <th>Feb</th>\n",
       "      <th>Mar</th>\n",
       "      <th>Apr</th>\n",
       "      <th>May</th>\n",
       "      <th>Jun</th>\n",
       "      <th>Jul</th>\n",
       "      <th>Aug</th>\n",
       "      <th>Sep</th>\n",
       "      <th>Oct</th>\n",
       "      <th>Nov</th>\n",
       "      <th>Dec</th>\n",
       "    </tr>\n",
       "  </thead>\n",
       "  <tbody>\n",
       "    <tr>\n",
       "      <th>2018</th>\n",
       "      <td>1.275</td>\n",
       "      <td>1.041</td>\n",
       "      <td>0.141</td>\n",
       "      <td>-1.166</td>\n",
       "      <td>-0.077</td>\n",
       "      <td>-0.012</td>\n",
       "      <td>0.377</td>\n",
       "      <td>-0.343</td>\n",
       "      <td>1.458</td>\n",
       "      <td>0.530</td>\n",
       "      <td>0.991</td>\n",
       "      <td>0.930</td>\n",
       "    </tr>\n",
       "    <tr>\n",
       "      <th>2019</th>\n",
       "      <td>0.677</td>\n",
       "      <td>-0.500</td>\n",
       "      <td>0.745</td>\n",
       "      <td>0.336</td>\n",
       "      <td>0.335</td>\n",
       "      <td>1.465</td>\n",
       "      <td>-0.390</td>\n",
       "      <td>-1.080</td>\n",
       "      <td>0.563</td>\n",
       "      <td>-0.925</td>\n",
       "      <td>-1.840</td>\n",
       "      <td>-1.360</td>\n",
       "    </tr>\n",
       "    <tr>\n",
       "      <th>2020</th>\n",
       "      <td>-0.231</td>\n",
       "      <td>0.275</td>\n",
       "      <td>1.426</td>\n",
       "      <td>-0.475</td>\n",
       "      <td>0.577</td>\n",
       "      <td>1.071</td>\n",
       "      <td>-0.546</td>\n",
       "      <td>-0.720</td>\n",
       "      <td>0.194</td>\n",
       "      <td>1.264</td>\n",
       "      <td>0.813</td>\n",
       "      <td>1.481</td>\n",
       "    </tr>\n",
       "    <tr>\n",
       "      <th>2021</th>\n",
       "      <td>1.045</td>\n",
       "      <td>1.344</td>\n",
       "      <td>0.086</td>\n",
       "      <td>0.827</td>\n",
       "      <td>0.314</td>\n",
       "      <td>1.203</td>\n",
       "      <td>-0.424</td>\n",
       "      <td>-0.190</td>\n",
       "      <td>1.361</td>\n",
       "      <td>0.460</td>\n",
       "      <td>1.310</td>\n",
       "      <td>2.159</td>\n",
       "    </tr>\n",
       "    <tr>\n",
       "      <th>2022</th>\n",
       "      <td>0.836</td>\n",
       "      <td>NaN</td>\n",
       "      <td>NaN</td>\n",
       "      <td>NaN</td>\n",
       "      <td>NaN</td>\n",
       "      <td>NaN</td>\n",
       "      <td>NaN</td>\n",
       "      <td>NaN</td>\n",
       "      <td>NaN</td>\n",
       "      <td>NaN</td>\n",
       "      <td>NaN</td>\n",
       "      <td>NaN</td>\n",
       "    </tr>\n",
       "  </tbody>\n",
       "</table>\n",
       "</div>"
      ],
      "text/plain": [
       "        Jan    Feb    Mar    Apr    May    Jun    Jul    Aug    Sep    Oct  \\\n",
       "2018  1.275  1.041  0.141 -1.166 -0.077 -0.012  0.377 -0.343  1.458  0.530   \n",
       "2019  0.677 -0.500  0.745  0.336  0.335  1.465 -0.390 -1.080  0.563 -0.925   \n",
       "2020 -0.231  0.275  1.426 -0.475  0.577  1.071 -0.546 -0.720  0.194  1.264   \n",
       "2021  1.045  1.344  0.086  0.827  0.314  1.203 -0.424 -0.190  1.361  0.460   \n",
       "2022  0.836    NaN    NaN    NaN    NaN    NaN    NaN    NaN    NaN    NaN   \n",
       "\n",
       "        Nov    Dec  \n",
       "2018  0.991  0.930  \n",
       "2019 -1.840 -1.360  \n",
       "2020  0.813  1.481  \n",
       "2021  1.310  2.159  \n",
       "2022    NaN    NaN  "
      ]
     },
     "execution_count": 8,
     "metadata": {},
     "output_type": "execute_result"
    }
   ],
   "source": [
    "sam.tail()"
   ]
  },
  {
   "cell_type": "code",
   "execution_count": 9,
   "metadata": {},
   "outputs": [],
   "source": [
    "sam = sam.stack()"
   ]
  },
  {
   "cell_type": "code",
   "execution_count": 10,
   "metadata": {},
   "outputs": [],
   "source": [
    "sam.index = pd.date_range(start='1979-01-31', freq='M', periods=len(sam))"
   ]
  },
  {
   "cell_type": "code",
   "execution_count": 11,
   "metadata": {},
   "outputs": [],
   "source": [
    "sam = sam.to_frame(name='SAM')"
   ]
  },
  {
   "cell_type": "code",
   "execution_count": 12,
   "metadata": {},
   "outputs": [
    {
     "data": {
      "text/html": [
       "<div>\n",
       "<style scoped>\n",
       "    .dataframe tbody tr th:only-of-type {\n",
       "        vertical-align: middle;\n",
       "    }\n",
       "\n",
       "    .dataframe tbody tr th {\n",
       "        vertical-align: top;\n",
       "    }\n",
       "\n",
       "    .dataframe thead th {\n",
       "        text-align: right;\n",
       "    }\n",
       "</style>\n",
       "<table border=\"1\" class=\"dataframe\">\n",
       "  <thead>\n",
       "    <tr style=\"text-align: right;\">\n",
       "      <th></th>\n",
       "      <th>SAM</th>\n",
       "    </tr>\n",
       "  </thead>\n",
       "  <tbody>\n",
       "    <tr>\n",
       "      <th>1979-01-31</th>\n",
       "      <td>0.209</td>\n",
       "    </tr>\n",
       "    <tr>\n",
       "      <th>1979-02-28</th>\n",
       "      <td>0.356</td>\n",
       "    </tr>\n",
       "    <tr>\n",
       "      <th>1979-03-31</th>\n",
       "      <td>0.899</td>\n",
       "    </tr>\n",
       "    <tr>\n",
       "      <th>1979-04-30</th>\n",
       "      <td>0.678</td>\n",
       "    </tr>\n",
       "    <tr>\n",
       "      <th>1979-05-31</th>\n",
       "      <td>0.724</td>\n",
       "    </tr>\n",
       "  </tbody>\n",
       "</table>\n",
       "</div>"
      ],
      "text/plain": [
       "              SAM\n",
       "1979-01-31  0.209\n",
       "1979-02-28  0.356\n",
       "1979-03-31  0.899\n",
       "1979-04-30  0.678\n",
       "1979-05-31  0.724"
      ]
     },
     "execution_count": 12,
     "metadata": {},
     "output_type": "execute_result"
    }
   ],
   "source": [
    "sam.head()"
   ]
  },
  {
   "cell_type": "code",
   "execution_count": 13,
   "metadata": {},
   "outputs": [
    {
     "data": {
      "text/html": [
       "<div>\n",
       "<style scoped>\n",
       "    .dataframe tbody tr th:only-of-type {\n",
       "        vertical-align: middle;\n",
       "    }\n",
       "\n",
       "    .dataframe tbody tr th {\n",
       "        vertical-align: top;\n",
       "    }\n",
       "\n",
       "    .dataframe thead th {\n",
       "        text-align: right;\n",
       "    }\n",
       "</style>\n",
       "<table border=\"1\" class=\"dataframe\">\n",
       "  <thead>\n",
       "    <tr style=\"text-align: right;\">\n",
       "      <th></th>\n",
       "      <th>SAM</th>\n",
       "    </tr>\n",
       "  </thead>\n",
       "  <tbody>\n",
       "    <tr>\n",
       "      <th>2021-09-30</th>\n",
       "      <td>1.361</td>\n",
       "    </tr>\n",
       "    <tr>\n",
       "      <th>2021-10-31</th>\n",
       "      <td>0.460</td>\n",
       "    </tr>\n",
       "    <tr>\n",
       "      <th>2021-11-30</th>\n",
       "      <td>1.310</td>\n",
       "    </tr>\n",
       "    <tr>\n",
       "      <th>2021-12-31</th>\n",
       "      <td>2.159</td>\n",
       "    </tr>\n",
       "    <tr>\n",
       "      <th>2022-01-31</th>\n",
       "      <td>0.836</td>\n",
       "    </tr>\n",
       "  </tbody>\n",
       "</table>\n",
       "</div>"
      ],
      "text/plain": [
       "              SAM\n",
       "2021-09-30  1.361\n",
       "2021-10-31  0.460\n",
       "2021-11-30  1.310\n",
       "2021-12-31  2.159\n",
       "2022-01-31  0.836"
      ]
     },
     "execution_count": 13,
     "metadata": {},
     "output_type": "execute_result"
    }
   ],
   "source": [
    "sam.tail()"
   ]
  },
  {
   "cell_type": "code",
   "execution_count": 14,
   "metadata": {},
   "outputs": [
    {
     "data": {
      "text/plain": [
       "<AxesSubplot:>"
      ]
     },
     "execution_count": 14,
     "metadata": {},
     "output_type": "execute_result"
    },
    {
     "data": {
      "image/png": "[encoded data removed]",
      "text/plain": [
       "<Figure size 432x288 with 1 Axes>"
      ]
     },
     "metadata": {
      "needs_background": "light"
     },
     "output_type": "display_data"
    }
   ],
   "source": [
    "sam.plot()"
   ]
  }
 ],
 "metadata": {
  "kernelspec": {
   "display_name": "Python 3 (ipykernel)",
   "language": "python",
   "name": "python3"
  },
  "language_info": {
   "codemirror_mode": {
    "name": "ipython",
    "version": 3
   },
   "file_extension": ".py",
   "mimetype": "text/x-python",
   "name": "python",
   "nbconvert_exporter": "python",
   "pygments_lexer": "ipython3",
   "version": "3.8.12"
  }
 },
 "nbformat": 4,
 "nbformat_minor": 4
}
