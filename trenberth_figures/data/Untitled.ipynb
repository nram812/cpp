{
 "cells": [
  {
   "cell_type": "code",
   "execution_count": 1,
   "metadata": {},
   "outputs": [
    {
     "name": "stderr",
     "output_type": "stream",
     "text": [
      "/nesi/project/niwa00004/rampaln/lib/python3.8/site-packages/openpyxl/styles/stylesheet.py:214: UserWarning: Workbook contains no default style, apply openpyxl's default\n",
      "  warn(\"Workbook contains no default style, apply openpyxl's default\")\n"
     ]
    },
    {
     "name": "stdout",
     "output_type": "stream",
     "text": [
      "[-45.325 -45.375 -45.425 ... -38.025 -37.725 -37.725] [166.825 166.825 166.825 ... 178.325 178.375 178.425]\n"
     ]
    }
   ],
   "source": [
    "import numpy as np\n",
    "import sys\n",
    "import pandas as pd\n",
    "import datetime as dt\n",
    "import os\n",
    "import pytz\n",
    "import json\n",
    "import datetime\n",
    "from calendar import monthrange\n",
    "import pandas as pd\n",
    "tz = pytz.timezone('Pacific/Auckland')\n",
    "os.environ[\"LD_LIBRARY_PATH\"] = \"/nesi/project/niwa00004/rampaln/client64/lib\"\n",
    "parent_dirs = r'/nesi/project/niwa00004/rampaln/python_clidb'\n",
    "# sys.path.append(r'C:\\Users\\rampaln\\OneDrive - NIWA\\Python Tools\\python_clidb')\n",
    "sys.path.append(f'{parent_dirs}')\n",
    "os.chdir(fr'{parent_dirs}')\n",
    "from lib.CLIDB.Station import FindStation\n",
    "from lib.CLIDB.ConstructQuery import ConstructQuery\n",
    "from lib.CLIDB.GetVCSN import GetVCSNAgent\n",
    "\n",
    "# Loading Modules for Querying the database\n",
    "user_name = r'ops$RAMPALN'\n",
    "password = 'shrimp-5buckler-desktop'\n",
    "station = FindStation()\n",
    "vcsn_coords = GetVCSNAgent()\n",
    "import cx_Oracle"
   ]
  },
  {
   "cell_type": "code",
   "execution_count": 2,
   "metadata": {},
   "outputs": [
    {
     "ename": "DatabaseError",
     "evalue": "ORA-12170: TNS:Connect timeout occurred",
     "output_type": "error",
     "traceback": [
      "\u001b[0;31m---------------------------------------------------------------------------\u001b[0m",
      "\u001b[0;31mDatabaseError\u001b[0m                             Traceback (most recent call last)",
      "\u001b[0;32m<ipython-input-2-382c66b709c3>\u001b[0m in \u001b[0;36m<module>\u001b[0;34m\u001b[0m\n\u001b[0;32m----> 1\u001b[0;31m query = ConstructQuery(user_name, password,\n\u001b[0m\u001b[1;32m      2\u001b[0m                        f'{parent_dirs}/lib/CLIDB/database_metadata/data_attributes.txt')\n",
      "\u001b[0;32m/scale_wlg_persistent/filesets/project/niwa00004/rampaln/python_clidb/lib/CLIDB/ConstructQuery.py\u001b[0m in \u001b[0;36m__init__\u001b[0;34m(self, user_name, password, table_dirs)\u001b[0m\n\u001b[1;32m      8\u001b[0m     \u001b[0;32mdef\u001b[0m \u001b[0m__init__\u001b[0m\u001b[0;34m(\u001b[0m\u001b[0mself\u001b[0m\u001b[0;34m,\u001b[0m \u001b[0muser_name\u001b[0m\u001b[0;34m,\u001b[0m \u001b[0mpassword\u001b[0m\u001b[0;34m,\u001b[0m \u001b[0mtable_dirs\u001b[0m \u001b[0;34m=\u001b[0m \u001b[0;34m'/nesi/project/niwa00004/rampaln/python_clidb/lib/CLIDB/database_metadata'\u001b[0m\u001b[0;34m)\u001b[0m\u001b[0;34m:\u001b[0m\u001b[0;34m\u001b[0m\u001b[0;34m\u001b[0m\u001b[0m\n\u001b[1;32m      9\u001b[0m         \u001b[0;32mtry\u001b[0m\u001b[0;34m:\u001b[0m\u001b[0;34m\u001b[0m\u001b[0;34m\u001b[0m\u001b[0m\n\u001b[0;32m---> 10\u001b[0;31m             \u001b[0msuper\u001b[0m\u001b[0;34m(\u001b[0m\u001b[0mConstructQuery\u001b[0m\u001b[0;34m,\u001b[0m \u001b[0mself\u001b[0m\u001b[0;34m)\u001b[0m\u001b[0;34m.\u001b[0m\u001b[0m__init__\u001b[0m\u001b[0;34m(\u001b[0m\u001b[0muser_name\u001b[0m\u001b[0;34m,\u001b[0m \u001b[0mpassword\u001b[0m\u001b[0;34m,\u001b[0m \u001b[0mtable_dirs\u001b[0m\u001b[0;34m)\u001b[0m\u001b[0;34m\u001b[0m\u001b[0;34m\u001b[0m\u001b[0m\n\u001b[0m\u001b[1;32m     11\u001b[0m         \u001b[0;32mexcept\u001b[0m \u001b[0;34m(\u001b[0m\u001b[0mFileNotFoundError\u001b[0m\u001b[0;34m,\u001b[0m \u001b[0mOSError\u001b[0m\u001b[0;34m)\u001b[0m \u001b[0;32mas\u001b[0m \u001b[0me\u001b[0m\u001b[0;34m:\u001b[0m\u001b[0;34m\u001b[0m\u001b[0;34m\u001b[0m\u001b[0m\n\u001b[1;32m     12\u001b[0m             \u001b[0;32mraise\u001b[0m \u001b[0mNameError\u001b[0m\u001b[0;34m(\u001b[0m\u001b[0;34m'Wrong table metadata set please use the table_dirs argument'\u001b[0m\u001b[0;34m)\u001b[0m\u001b[0;34m\u001b[0m\u001b[0;34m\u001b[0m\u001b[0m\n",
      "\u001b[0;32m/scale_wlg_persistent/filesets/project/niwa00004/rampaln/python_clidb/lib/CLIDB/ServerConnect.py\u001b[0m in \u001b[0;36m__init__\u001b[0;34m(self, user_name, password, table_dirs)\u001b[0m\n\u001b[1;32m     11\u001b[0m         \u001b[0;32mtry\u001b[0m\u001b[0;34m:\u001b[0m\u001b[0;34m\u001b[0m\u001b[0;34m\u001b[0m\u001b[0m\n\u001b[1;32m     12\u001b[0m             \u001b[0mdsn_tns\u001b[0m \u001b[0;34m=\u001b[0m \u001b[0mcx_Oracle\u001b[0m\u001b[0;34m.\u001b[0m\u001b[0mmakedsn\u001b[0m\u001b[0;34m(\u001b[0m\u001b[0;34m'clidb.niwa.local'\u001b[0m\u001b[0;34m,\u001b[0m \u001b[0;34m'1521'\u001b[0m\u001b[0;34m,\u001b[0m \u001b[0mservice_name\u001b[0m\u001b[0;34m=\u001b[0m\u001b[0;34m'clidb'\u001b[0m\u001b[0;34m)\u001b[0m\u001b[0;34m\u001b[0m\u001b[0;34m\u001b[0m\u001b[0m\n\u001b[0;32m---> 13\u001b[0;31m             \u001b[0mself\u001b[0m\u001b[0;34m.\u001b[0m\u001b[0mconn\u001b[0m \u001b[0;34m=\u001b[0m \u001b[0mcx_Oracle\u001b[0m\u001b[0;34m.\u001b[0m\u001b[0mconnect\u001b[0m\u001b[0;34m(\u001b[0m\u001b[0muser\u001b[0m\u001b[0;34m=\u001b[0m\u001b[0muser_name\u001b[0m\u001b[0;34m,\u001b[0m \u001b[0mpassword\u001b[0m\u001b[0;34m=\u001b[0m\u001b[0mpassword\u001b[0m\u001b[0;34m,\u001b[0m \u001b[0mdsn\u001b[0m\u001b[0;34m=\u001b[0m\u001b[0mdsn_tns\u001b[0m\u001b[0;34m)\u001b[0m\u001b[0;34m\u001b[0m\u001b[0;34m\u001b[0m\u001b[0m\n\u001b[0m\u001b[1;32m     14\u001b[0m             \u001b[0mself\u001b[0m\u001b[0;34m.\u001b[0m\u001b[0mcursor\u001b[0m \u001b[0;34m=\u001b[0m \u001b[0mself\u001b[0m\u001b[0;34m.\u001b[0m\u001b[0mconn\u001b[0m\u001b[0;34m.\u001b[0m\u001b[0mcursor\u001b[0m\u001b[0;34m(\u001b[0m\u001b[0;34m)\u001b[0m\u001b[0;34m\u001b[0m\u001b[0;34m\u001b[0m\u001b[0m\n\u001b[1;32m     15\u001b[0m             self.databases = pd.read_table(table_dirs,\n",
      "\u001b[0;31mDatabaseError\u001b[0m: ORA-12170: TNS:Connect timeout occurred"
     ]
    }
   ],
   "source": [
    "query = ConstructQuery(user_name, password,\n",
    "                       f'{parent_dirs}/lib/CLIDB/database_metadata/data_attributes.txt')"
   ]
  },
  {
   "cell_type": "code",
   "execution_count": null,
   "metadata": {},
   "outputs": [],
   "source": [
    "\n",
    "#cx_Oracle.init_oracle_client(config_dir = '/home/rampaln/oracle-instantclient.conf')\n",
    "\n",
    "\n",
    "# Extracting the current date and time for the analysis\n",
    "sites = pd.read_excel(r'/nesi/project/niwa00004/rampaln/commercial_requests/VCSN codes.xlsx')\n",
    "\n",
    "\n",
    "#                                month=current_month - 1,\n",
    "#                                day=1).strftime('%Y%m') + \"01\")\n",
    "start_date =20170101\n",
    "end_date = 20220131\n",
    "for agent in sites.values.ravel():\n",
    "    print(agent, \"info agent_no\")\n",
    "    fields = ['']\n",
    "    query.load_attributes(fields)\n",
    "    data = query.extract_query([int(agent)], start_date, end_date, fields)\n",
    "    observations = data.set_index(['LOCAL_DAY'])\n",
    "    observations.to_csv(f'/nesi/project/niwa00004/rampaln/commercial_requests/data/vcsn_{agent}_tmp1.csv')\n"
   ]
  }
 ],
 "metadata": {
  "kernelspec": {
   "display_name": "My_env",
   "language": "python",
   "name": "nellys_env"
  },
  "language_info": {
   "codemirror_mode": {
    "name": "ipython",
    "version": 3
   },
   "file_extension": ".py",
   "mimetype": "text/x-python",
   "name": "python",
   "nbconvert_exporter": "python",
   "pygments_lexer": "ipython3",
   "version": "3.8.5"
  }
 },
 "nbformat": 4,
 "nbformat_minor": 4
}
